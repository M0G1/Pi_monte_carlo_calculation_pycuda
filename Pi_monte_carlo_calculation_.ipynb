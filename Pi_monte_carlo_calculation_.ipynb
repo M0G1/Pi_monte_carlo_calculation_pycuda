{
  "nbformat": 4,
  "nbformat_minor": 0,
  "metadata": {
    "colab": {
      "name": "Pi-value_calculation_Korshikov.ipynb",
      "provenance": [],
      "collapsed_sections": []
    },
    "kernelspec": {
      "name": "python3",
      "display_name": "Python 3"
    },
    "language_info": {
      "name": "python"
    },
    "accelerator": "GPU"
  },
  "cells": [
    {
      "cell_type": "markdown",
      "source": [
        "Импортируем библиотеки"
      ],
      "metadata": {
        "id": "H6vo1UK01Qb1"
      }
    },
    {
      "cell_type": "code",
      "source": [
        "import numpy as np\n",
        "import time\n",
        "import random\n",
        "!pip install pycuda\n",
        "import pycuda.autoinit\n",
        "import pycuda.gpuarray as gpuarray\n",
        "from pycuda.curandom import rand as curandom\n",
        "from pycuda import driver as dr\n",
        "from pycuda.compiler import SourceModule"
      ],
      "metadata": {
        "colab": {
          "base_uri": "https://localhost:8080/"
        },
        "id": "XwawnM1G1L2e",
        "outputId": "ae52d50f-0c4c-40f7-9116-afd96a48069d"
      },
      "execution_count": 1,
      "outputs": [
        {
          "output_type": "stream",
          "name": "stdout",
          "text": [
            "Collecting pycuda\n",
            "  Downloading pycuda-2021.1.tar.gz (1.7 MB)\n",
            "\u001b[K     |████████████████████████████████| 1.7 MB 4.2 MB/s \n",
            "\u001b[?25h  Installing build dependencies ... \u001b[?25l\u001b[?25hdone\n",
            "  Getting requirements to build wheel ... \u001b[?25l\u001b[?25hdone\n",
            "    Preparing wheel metadata ... \u001b[?25l\u001b[?25hdone\n",
            "Collecting mako\n",
            "  Downloading Mako-1.1.6-py2.py3-none-any.whl (75 kB)\n",
            "\u001b[K     |████████████████████████████████| 75 kB 4.6 MB/s \n",
            "\u001b[?25hCollecting pytools>=2011.2\n",
            "  Downloading pytools-2022.1.tar.gz (67 kB)\n",
            "\u001b[K     |████████████████████████████████| 67 kB 5.7 MB/s \n",
            "\u001b[?25hRequirement already satisfied: appdirs>=1.4.0 in /usr/local/lib/python3.7/dist-packages (from pycuda) (1.4.4)\n",
            "Collecting platformdirs>=2.2.0\n",
            "  Downloading platformdirs-2.5.1-py3-none-any.whl (14 kB)\n",
            "Requirement already satisfied: numpy>=1.6.0 in /usr/local/lib/python3.7/dist-packages (from pytools>=2011.2->pycuda) (1.21.5)\n",
            "Requirement already satisfied: MarkupSafe>=0.9.2 in /usr/local/lib/python3.7/dist-packages (from mako->pycuda) (2.0.1)\n",
            "Building wheels for collected packages: pycuda, pytools\n",
            "  Building wheel for pycuda (PEP 517) ... \u001b[?25l\u001b[?25hdone\n",
            "  Created wheel for pycuda: filename=pycuda-2021.1-cp37-cp37m-linux_x86_64.whl size=626634 sha256=d7d30fc08acdbd243c77fa6fdeeae3b1d674a6b2c3f32580c1c618e062799edf\n",
            "  Stored in directory: /root/.cache/pip/wheels/c4/ef/49/dc6a5feb8d980b37c83d465ecab24949a6aa19458522a9e001\n",
            "  Building wheel for pytools (setup.py) ... \u001b[?25l\u001b[?25hdone\n",
            "  Created wheel for pytools: filename=pytools-2022.1-py2.py3-none-any.whl size=63426 sha256=32d6ff465afaa0ee93cf585bb9fdb5a3131fb81011ac7c42074e657dcd4b0c77\n",
            "  Stored in directory: /root/.cache/pip/wheels/b4/11/0e/75dfe0884733df6a47170da81d3f1b28276ff7bc4315287190\n",
            "Successfully built pycuda pytools\n",
            "Installing collected packages: platformdirs, pytools, mako, pycuda\n",
            "Successfully installed mako-1.1.6 platformdirs-2.5.1 pycuda-2021.1 pytools-2022.1\n"
          ]
        }
      ]
    },
    {
      "cell_type": "markdown",
      "source": [
        "Зададим количество элементов после запятой"
      ],
      "metadata": {
        "id": "iAcAGY56uv64"
      }
    },
    {
      "cell_type": "code",
      "source": [
        "N = 10000"
      ],
      "metadata": {
        "id": "ZCAbiAowuuo3"
      },
      "execution_count": 18,
      "outputs": []
    },
    {
      "cell_type": "markdown",
      "source": [
        "Зададим функцию для выполнения на ядре"
      ],
      "metadata": {
        "id": "ZRGBKTAVvHsi"
      }
    },
    {
      "cell_type": "code",
      "source": [
        "kernel = SourceModule(\n",
        "    \"\"\"\n",
        "    __global__ void foundpi(double *x, double *y, int *points_in_circle, const int N){\n",
        "        int j = blockIdx.x * blockDim.x + threadIdx.x;\n",
        "        int c = 0;\n",
        "        for (int i = j; i < N; i += gridDim.x * blockDim.x) {\n",
        "            if (x[i]*x[i] + y[i]*y[i] <= 1) {\n",
        "            c+=1;\n",
        "            }\n",
        "        }\n",
        "        atomicAdd(points_in_circle, c);\n",
        "    }\n",
        "    \"\"\")"
      ],
      "metadata": {
        "id": "2EnK62UevMGQ"
      },
      "execution_count": 19,
      "outputs": []
    },
    {
      "cell_type": "markdown",
      "source": [
        "Зададим функцию, которая будет проводить рассчёты числа Pi методом Монте-Карло на CPU и GPU, а также выводить все необходимые метрики"
      ],
      "metadata": {
        "id": "5lDV21Tp1jhE"
      }
    },
    {
      "cell_type": "markdown",
      "source": [
        "<!-- Используем N - количество чисел после запятой, чтобы определить количество раз, сколько необходимо исполнить цикл для вычисления числа pi. В этой же функции пропишем реализацию вычислений на CPU и GPU соответственно -->"
      ],
      "metadata": {
        "id": "UJ1c5TJEvg9u"
      }
    },
    {
      "cell_type": "code",
      "source": [
        "def main():    \n",
        "  n_vals = []\n",
        "  cpu_ts = []\n",
        "  gpu_ts = []\n",
        "  acc = []\n",
        "  data = [cpu_ts, gpu_ts, n_vals, acc]\n",
        "  for power in range(14, 20):  # степени 2\n",
        "    N = 2 ** power  # power, it's a power! OnePuMa\n",
        "    print(N)\n",
        "    start_time = time.time()\n",
        "    points_in_circle = 0\n",
        "    x = np.zeros((N, 1), dtype=np.float64)\n",
        "    y = np.zeros((N, 1), dtype=np.float64)\n",
        "    for i in range(N):\n",
        "      x[i] = random.uniform(-1, 1)\n",
        "      y[i] = random.uniform(-1, 1)\n",
        "\n",
        "    for i in range(N):\n",
        "      if x[i] ** 2 + y[i] ** 2 <= 1:\n",
        "        points_in_circle = points_in_circle + 1\n",
        "\n",
        "    pi = 4 * points_in_circle / N\n",
        "    end_time = time.time()\n",
        "    cpu_t = end_time - start_time\n",
        "    err = np.abs(np.pi - pi)\n",
        "\n",
        "    start_time = time.time()\n",
        "    gpu_points_in_circle = gpuarray.zeros((1,), dtype=np.int32)\n",
        "    gpu_points_in_circle = gpu_points_in_circle.get()\n",
        "\n",
        "    gpu_x = curandom((N,), dtype=np.double).get().astype(np.double)\n",
        "    gpu_y = curandom((N,), dtype=np.double).get().astype(np.double)\n",
        "    pi_calc = kernel.get_function(\"foundpi\")\n",
        "    pi_calc(dr.In(gpu_x), dr.In(gpu_y), dr.Out(gpu_points_in_circle), np.int32(N), block=(128, 1, 1),\n",
        "            grid=(int(N / (128 ** 2)), 1))\n",
        "    dr.Context.synchronize()\n",
        "\n",
        "    gpu_pi = 4 * gpu_points_in_circle[0] / N\n",
        "    end_time = time.time()\n",
        "    gpu_t = end_time - start_time\n",
        "    gpu_err = np.abs(np.pi - gpu_pi)\n",
        "\n",
        "    acceleration = cpu_t / gpu_t\n",
        "\n",
        "    print(pi)\n",
        "    print('Cpu time: ', cpu_t, '. Error: ', err)\n",
        "\n",
        "    print(gpu_pi)\n",
        "    print('Gpu time: ', gpu_t, '. Error: ', gpu_err)\n",
        "    print('T(cpu)/T(gpu):', acceleration,\"\\n\")\n",
        "\n",
        "    cpu_ts.append(cpu_t)\n",
        "    gpu_ts.append(gpu_t)\n",
        "    n_vals.append(N)\n",
        "    acc.append(acceleration)\n",
        "  print(data)"
      ],
      "metadata": {
        "id": "rJ2yFsLsv4S-"
      },
      "execution_count": 24,
      "outputs": []
    },
    {
      "cell_type": "markdown",
      "source": [
        "Запустим заданную функцию"
      ],
      "metadata": {
        "id": "JgsWzE_7xiYM"
      }
    },
    {
      "cell_type": "code",
      "source": [
        "if __name__ == '__main__':\n",
        "  main()"
      ],
      "metadata": {
        "colab": {
          "base_uri": "https://localhost:8080/"
        },
        "id": "vcN1MP17xlV0",
        "outputId": "9853aaaa-074b-4448-84c5-a92d6216f0a4"
      },
      "execution_count": 25,
      "outputs": [
        {
          "output_type": "stream",
          "name": "stdout",
          "text": [
            "16384\n",
            "3.16357421875\n",
            "Cpu time:  0.12070608139038086 . Error:  0.021981565160206884\n",
            "3.155517578125\n",
            "Gpu time:  0.20677804946899414 . Error:  0.013924924535206884\n",
            "T(cpu)/T(gpu): 0.5837470742196958 \n",
            "\n",
            "32768\n",
            "3.1385498046875\n",
            "Cpu time:  0.22400450706481934 . Error:  0.003042848902293116\n",
            "3.12646484375\n",
            "Gpu time:  0.2054450511932373 . Error:  0.015127809839793116\n",
            "T(cpu)/T(gpu): 1.090337809374271 \n",
            "\n",
            "65536\n",
            "3.14678955078125\n",
            "Cpu time:  0.433635950088501 . Error:  0.005196897191456884\n",
            "3.15301513671875\n",
            "Gpu time:  0.20337581634521484 . Error:  0.011422483128956884\n",
            "T(cpu)/T(gpu): 2.1321903355138216 \n",
            "\n",
            "131072\n",
            "3.140350341796875\n",
            "Cpu time:  0.7971701622009277 . Error:  0.001242311792918116\n",
            "3.13427734375\n",
            "Gpu time:  0.2006235122680664 . Error:  0.007315309839793116\n",
            "T(cpu)/T(gpu): 3.973463295447523 \n",
            "\n",
            "262144\n",
            "3.1380615234375\n",
            "Cpu time:  1.6409132480621338 . Error:  0.003531130152293116\n",
            "3.142181396484375\n",
            "Gpu time:  0.20459818840026855 . Error:  0.000588742894581884\n",
            "T(cpu)/T(gpu): 8.020174865145481 \n",
            "\n",
            "524288\n",
            "3.1440200805664062\n",
            "Cpu time:  3.2501657009124756 . Error:  0.002427426976613134\n",
            "3.1452865600585938\n",
            "Gpu time:  0.20197534561157227 . Error:  0.003693906468800634\n",
            "T(cpu)/T(gpu): 16.091893250986253 \n",
            "\n",
            "[[0.12070608139038086, 0.22400450706481934, 0.433635950088501, 0.7971701622009277, 1.6409132480621338, 3.2501657009124756], [0.20677804946899414, 0.2054450511932373, 0.20337581634521484, 0.2006235122680664, 0.20459818840026855, 0.20197534561157227], [16384, 32768, 65536, 131072, 262144, 524288], [0.5837470742196958, 1.090337809374271, 2.1321903355138216, 3.973463295447523, 8.020174865145481, 16.091893250986253]]\n"
          ]
        }
      ]
    },
    {
      "cell_type": "code",
      "source": [
        ""
      ],
      "metadata": {
        "id": "DX5V-8MqiOvJ"
      },
      "execution_count": null,
      "outputs": []
    }
  ]
}