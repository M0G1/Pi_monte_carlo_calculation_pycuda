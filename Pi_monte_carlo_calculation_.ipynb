{
  "nbformat": 4,
  "nbformat_minor": 0,
  "metadata": {
    "colab": {
      "name": "Pi-value_calculation_Korshikov.ipynb",
      "provenance": [],
      "collapsed_sections": []
    },
    "kernelspec": {
      "name": "python3",
      "display_name": "Python 3"
    },
    "language_info": {
      "name": "python"
    },
    "accelerator": "GPU"
  },
  "cells": [
    {
      "cell_type": "markdown",
      "source": [
        "Импортируем библиотеки"
      ],
      "metadata": {
        "id": "H6vo1UK01Qb1"
      }
    },
    {
      "cell_type": "code",
      "source": [
        "import numpy as np\n",
        "import time\n",
        "import random\n",
        "!pip install pycuda\n",
        "import pycuda.autoinit\n",
        "import pycuda.gpuarray as gpuarray\n",
        "from pycuda.curandom import rand as curandom\n",
        "from pycuda import driver as dr\n",
        "from pycuda.compiler import SourceModule"
      ],
      "metadata": {
        "colab": {
          "base_uri": "https://localhost:8080/"
        },
        "id": "XwawnM1G1L2e",
        "outputId": "ae52d50f-0c4c-40f7-9116-afd96a48069d"
      },
      "execution_count": 1,
      "outputs": [
        {
          "output_type": "stream",
          "name": "stdout",
          "text": [
            "Collecting pycuda\n",
            "  Downloading pycuda-2021.1.tar.gz (1.7 MB)\n",
            "\u001b[K     |████████████████████████████████| 1.7 MB 4.2 MB/s \n",
            "\u001b[?25h  Installing build dependencies ... \u001b[?25l\u001b[?25hdone\n",
            "  Getting requirements to build wheel ... \u001b[?25l\u001b[?25hdone\n",
            "    Preparing wheel metadata ... \u001b[?25l\u001b[?25hdone\n",
            "Collecting mako\n",
            "  Downloading Mako-1.1.6-py2.py3-none-any.whl (75 kB)\n",
            "\u001b[K     |████████████████████████████████| 75 kB 4.6 MB/s \n",
            "\u001b[?25hCollecting pytools>=2011.2\n",
            "  Downloading pytools-2022.1.tar.gz (67 kB)\n",
            "\u001b[K     |████████████████████████████████| 67 kB 5.7 MB/s \n",
            "\u001b[?25hRequirement already satisfied: appdirs>=1.4.0 in /usr/local/lib/python3.7/dist-packages (from pycuda) (1.4.4)\n",
            "Collecting platformdirs>=2.2.0\n",
            "  Downloading platformdirs-2.5.1-py3-none-any.whl (14 kB)\n",
            "Requirement already satisfied: numpy>=1.6.0 in /usr/local/lib/python3.7/dist-packages (from pytools>=2011.2->pycuda) (1.21.5)\n",
            "Requirement already satisfied: MarkupSafe>=0.9.2 in /usr/local/lib/python3.7/dist-packages (from mako->pycuda) (2.0.1)\n",
            "Building wheels for collected packages: pycuda, pytools\n",
            "  Building wheel for pycuda (PEP 517) ... \u001b[?25l\u001b[?25hdone\n",
            "  Created wheel for pycuda: filename=pycuda-2021.1-cp37-cp37m-linux_x86_64.whl size=626634 sha256=d7d30fc08acdbd243c77fa6fdeeae3b1d674a6b2c3f32580c1c618e062799edf\n",
            "  Stored in directory: /root/.cache/pip/wheels/c4/ef/49/dc6a5feb8d980b37c83d465ecab24949a6aa19458522a9e001\n",
            "  Building wheel for pytools (setup.py) ... \u001b[?25l\u001b[?25hdone\n",
            "  Created wheel for pytools: filename=pytools-2022.1-py2.py3-none-any.whl size=63426 sha256=32d6ff465afaa0ee93cf585bb9fdb5a3131fb81011ac7c42074e657dcd4b0c77\n",
            "  Stored in directory: /root/.cache/pip/wheels/b4/11/0e/75dfe0884733df6a47170da81d3f1b28276ff7bc4315287190\n",
            "Successfully built pycuda pytools\n",
            "Installing collected packages: platformdirs, pytools, mako, pycuda\n",
            "Successfully installed mako-1.1.6 platformdirs-2.5.1 pycuda-2021.1 pytools-2022.1\n"
          ]
        }
      ]
    },
    {
      "cell_type": "markdown",
      "source": [
        "Зададим количество элементов после запятой"
      ],
      "metadata": {
        "id": "iAcAGY56uv64"
      }
    },
    {
      "cell_type": "code",
      "source": [
        "N = 10000"
      ],
      "metadata": {
        "id": "ZCAbiAowuuo3"
      },
      "execution_count": 18,
      "outputs": []
    },
    {
      "cell_type": "markdown",
      "source": [
        "Зададим функцию для выполнения на ядре"
      ],
      "metadata": {
        "id": "ZRGBKTAVvHsi"
      }
    },
    {
      "cell_type": "code",
      "source": [
        "kernel = SourceModule(\n",
        "    \"\"\"\n",
        "    __global__ void foundpi(double *x, double *y, int *points_in_circle, const int N){\n",
        "        int j = blockIdx.x * blockDim.x + threadIdx.x;\n",
        "        int c = 0;\n",
        "        for (int i = j; i < N; i += gridDim.x * blockDim.x) {\n",
        "            if (x[i]*x[i] + y[i]*y[i] <= 1) {\n",
        "            c+=1;\n",
        "            }\n",
        "        }\n",
        "        atomicAdd(points_in_circle, c);\n",
        "    }\n",
        "    \"\"\")"
      ],
      "metadata": {
        "id": "2EnK62UevMGQ"
      },
      "execution_count": 19,
      "outputs": []
    },
    {
      "cell_type": "markdown",
      "source": [
        "Зададим функцию, которая будет проводить рассчёты числа Pi методом Монте-Карло на CPU и GPU, а также выводить все необходимые метрики"
      ],
      "metadata": {
        "id": "5lDV21Tp1jhE"
      }
    },
    {
      "cell_type": "markdown",
      "source": [
        "<!-- Используем N - количество чисел после запятой, чтобы определить количество раз, сколько необходимо исполнить цикл для вычисления числа pi. В этой же функции пропишем реализацию вычислений на CPU и GPU соответственно -->"
      ],
      "metadata": {
        "id": "UJ1c5TJEvg9u"
      }
    },
    {
      "cell_type": "code",
      "source": [
        "def main():    \n",
        "  n_vals = []\n",
        "  cpu_ts = []\n",
        "  gpu_ts = []\n",
        "  np_ts = []\n",
        "  acc = []\n",
        "  acc_np_gpu_vals = []\n",
        "  acc_cpu_np_vals = []\n",
        "  data = [cpu_ts, gpu_ts, np_ts, n_vals, acc, acc_np_gpu_vals, acc_cpu_np_vals]\n",
        "  for power in range(14, 22):  # степени 2\n",
        "    N = 2 ** power  # power, it's a power! OnePuMa\n",
        "    print(N, f\"2^{power}\")\n",
        "    start_time = time.time()\n",
        "    points_in_circle = 0\n",
        "    x = np.zeros((N, 1), dtype=np.float64)\n",
        "    y = np.zeros((N, 1), dtype=np.float64)\n",
        "    for i in range(N):\n",
        "      x[i] = random.uniform(-1, 1)\n",
        "      y[i] = random.uniform(-1, 1)\n",
        "\n",
        "    for i in range(N):\n",
        "      if x[i] ** 2 + y[i] ** 2 <= 1:\n",
        "        points_in_circle = points_in_circle + 1\n",
        "\n",
        "    pi = 4 * points_in_circle / N\n",
        "    end_time = time.time()\n",
        "    cpu_t = end_time - start_time\n",
        "    err = np.abs(np.pi - pi)\n",
        "\n",
        "    \n",
        "    start_time = time.time()\n",
        "    points_in_circle = 0\n",
        "    np_x = np.random.uniform(-1,1,(N, 1))\n",
        "    np_y = np.random.uniform(-1,1,(N, 1))\n",
        "    \n",
        "    points_in_circle_np = np.count_nonzero(np_x ** 2 + np_y ** 2 <=1)\n",
        "\n",
        "    np_pi = 4 * points_in_circle_np / N\n",
        "    end_time = time.time()\n",
        "    np_t = end_time - start_time\n",
        "    err_np = np.abs(np.pi - np_pi)\n",
        "\n",
        "\n",
        "    start_time = time.time()\n",
        "    gpu_points_in_circle = gpuarray.zeros((1,), dtype=np.int32)\n",
        "    gpu_points_in_circle = gpu_points_in_circle.get()\n",
        "\n",
        "    gpu_x = curandom((N,), dtype=np.double).get().astype(np.double)\n",
        "    gpu_y = curandom((N,), dtype=np.double).get().astype(np.double)\n",
        "    pi_calc = kernel.get_function(\"foundpi\")\n",
        "    pi_calc(dr.In(gpu_x), dr.In(gpu_y), dr.Out(gpu_points_in_circle), np.int32(N), block=(128, 1, 1),\n",
        "            grid=(int(N / (128 ** 2)), 1))\n",
        "    dr.Context.synchronize()\n",
        "\n",
        "    gpu_pi = 4 * gpu_points_in_circle[0] / N\n",
        "    end_time = time.time()\n",
        "    gpu_t = end_time - start_time\n",
        "    gpu_err = np.abs(np.pi - gpu_pi)\n",
        "\n",
        "    acceleration = cpu_t / gpu_t\n",
        "\n",
        "    print(pi)\n",
        "    print('Cpu time: ', cpu_t, '. Error: ', err)\n",
        "\n",
        "    print(pi)\n",
        "    print('np time: ', np_t, '. Error: ', abs(np_pi - np.pi))\n",
        "    acc_np_gpu = np_t / gpu_t\n",
        "    acc_cpu_np = cpu_t / np_t\n",
        "    print('T(np)/T(gpu):', acc_np_gpu)\n",
        "    print('T(cpu)/T(np):', acc_cpu_np)\n",
        "\n",
        "    print(gpu_pi)\n",
        "    print('Gpu time: ', gpu_t, '. Error: ', gpu_err)\n",
        "    print('T(cpu)/T(gpu):', acceleration,\"\\n\")\n",
        "\n",
        "    cpu_ts.append(cpu_t)\n",
        "    gpu_ts.append(gpu_t)\n",
        "    n_vals.append(N)\n",
        "    acc.append(acceleration)\n",
        "    np_ts.append(np_t)\n",
        "    acc_np_gpu_vals.append(acc_np_gpu)\n",
        "    acc_cpu_np_vals.append(acc_cpu_np)\n",
        "\n",
        "  print(data)"
      ],
      "metadata": {
        "id": "rJ2yFsLsv4S-"
      },
      "execution_count": 32,
      "outputs": []
    },
    {
      "cell_type": "markdown",
      "source": [
        "Запустим заданную функцию"
      ],
      "metadata": {
        "id": "JgsWzE_7xiYM"
      }
    },
    {
      "cell_type": "code",
      "source": [
        "if __name__ == '__main__':\n",
        "  main()"
      ],
      "metadata": {
        "colab": {
          "base_uri": "https://localhost:8080/"
        },
        "id": "vcN1MP17xlV0",
        "outputId": "e009589b-ca0e-4c76-c875-afc67fd68705"
      },
      "execution_count": 33,
      "outputs": [
        {
          "output_type": "stream",
          "name": "stdout",
          "text": [
            "16384\n",
            "3.1474609375\n",
            "Cpu time:  0.12485051155090332 . Error:  0.005868283910206884\n",
            "3.1474609375\n",
            "np time:  0.0008020401000976562 . Error:  0.001944216089793116\n",
            "T(np)/T(gpu): 0.0038113106648720424\n",
            "T(cpu)/T(np): 155.66617122473247\n",
            "3.134521484375\n",
            "Gpu time:  0.21043682098388672 . Error:  0.007071169214793116\n",
            "T(cpu)/T(gpu): 0.5932921385486203 \n",
            "\n",
            "32768\n",
            "3.1480712890625\n",
            "Cpu time:  0.21938276290893555 . Error:  0.006478635472706884\n",
            "3.1480712890625\n",
            "np time:  0.0015473365783691406 . Error:  0.003164919214793116\n",
            "T(np)/T(gpu): 0.00750519813029209\n",
            "T(cpu)/T(np): 141.78089368258858\n",
            "3.140380859375\n",
            "Gpu time:  0.20616865158081055 . Error:  0.001211794214793116\n",
            "T(cpu)/T(gpu): 1.0640936981777056 \n",
            "\n",
            "65536\n",
            "3.146484375\n",
            "Cpu time:  0.4593162536621094 . Error:  0.004891721410206884\n",
            "3.146484375\n",
            "np time:  0.0032334327697753906 . Error:  0.002572385472706884\n",
            "T(np)/T(gpu): 0.01571025116477345\n",
            "T(cpu)/T(np): 142.0522046895738\n",
            "3.13385009765625\n",
            "Gpu time:  0.20581674575805664 . Error:  0.007742555933543116\n",
            "T(cpu)/T(gpu): 2.2316758141830135 \n",
            "\n",
            "131072\n",
            "3.1488037109375\n",
            "Cpu time:  0.880911111831665 . Error:  0.007211057347706884\n",
            "3.1488037109375\n",
            "np time:  0.0052776336669921875 . Error:  0.004342405003956884\n",
            "T(np)/T(gpu): 0.025785979630753533\n",
            "T(cpu)/T(np): 166.91403144199495\n",
            "3.14703369140625\n",
            "Gpu time:  0.20467066764831543 . Error:  0.005441037816456884\n",
            "T(cpu)/T(gpu): 4.304041814850236 \n",
            "\n",
            "262144\n",
            "3.144866943359375\n",
            "Cpu time:  1.7113449573516846 . Error:  0.003274289769581884\n",
            "3.144866943359375\n",
            "np time:  0.008786439895629883 . Error:  0.003732053441456884\n",
            "T(np)/T(gpu): 0.04253131307768921\n",
            "T(cpu)/T(np): 194.77114481860363\n",
            "3.1357269287109375\n",
            "Gpu time:  0.206587553024292 . Error:  0.005865724878855616\n",
            "T(cpu)/T(gpu): 8.283872538779976 \n",
            "\n",
            "524288\n",
            "3.1389541625976562\n",
            "Cpu time:  3.3257863521575928 . Error:  0.002638490992136866\n",
            "3.1389541625976562\n",
            "np time:  0.017807722091674805 . Error:  0.003409059839793116\n",
            "T(np)/T(gpu): 0.08637663594741839\n",
            "T(cpu)/T(np): 186.7609082754281\n",
            "3.142852783203125\n",
            "Gpu time:  0.20616364479064941 . Error:  0.001260129613331884\n",
            "T(cpu)/T(gpu): 16.13177898331585 \n",
            "\n",
            "1048576\n",
            "3.1431961059570312\n",
            "Cpu time:  6.463845491409302 . Error:  0.001603452367238134\n",
            "3.1431961059570312\n",
            "np time:  0.0334925651550293 . Error:  0.000405637425831884\n",
            "T(np)/T(gpu): 0.1516977146750839\n",
            "T(cpu)/T(np): 192.99344381326614\n",
            "3.1392593383789062\n",
            "Gpu time:  0.22078490257263184 . Error:  0.002333315210886866\n",
            "T(cpu)/T(gpu): 29.276664373746677 \n",
            "\n",
            "2097152\n",
            "3.140209197998047\n",
            "Cpu time:  13.226356029510498 . Error:  0.001383455591746241\n",
            "3.140209197998047\n",
            "np time:  0.0709073543548584 . Error:  0.000506075220652491\n",
            "T(np)/T(gpu): 0.2990169070274357\n",
            "T(cpu)/T(np): 186.53010184696393\n",
            "3.1398677825927734\n",
            "Gpu time:  0.2371349334716797 . Error:  0.0017248709970196785\n",
            "T(cpu)/T(gpu): 55.775654121791725 \n",
            "\n",
            "[[0.12485051155090332, 0.21938276290893555, 0.4593162536621094, 0.880911111831665, 1.7113449573516846, 3.3257863521575928, 6.463845491409302, 13.226356029510498], [0.21043682098388672, 0.20616865158081055, 0.20581674575805664, 0.20467066764831543, 0.206587553024292, 0.20616364479064941, 0.22078490257263184, 0.2371349334716797], [0.0008020401000976562, 0.0015473365783691406, 0.0032334327697753906, 0.0052776336669921875, 0.008786439895629883, 0.017807722091674805, 0.0334925651550293, 0.0709073543548584], [16384, 32768, 65536, 131072, 262144, 524288, 1048576, 2097152], [0.5932921385486203, 1.0640936981777056, 2.2316758141830135, 4.304041814850236, 8.283872538779976, 16.13177898331585, 29.276664373746677, 55.775654121791725], [0.0038113106648720424, 0.00750519813029209, 0.01571025116477345, 0.025785979630753533, 0.04253131307768921, 0.08637663594741839, 0.1516977146750839, 0.2990169070274357], [155.66617122473247, 141.78089368258858, 142.0522046895738, 166.91403144199495, 194.77114481860363, 186.7609082754281, 192.99344381326614, 186.53010184696393]]\n"
          ]
        }
      ]
    },
    {
      "cell_type": "code",
      "source": [
        ""
      ],
      "metadata": {
        "id": "DX5V-8MqiOvJ"
      },
      "execution_count": null,
      "outputs": []
    }
  ]
}